{
 "cells": [
  {
   "cell_type": "code",
   "execution_count": 1,
   "id": "a67fe036",
   "metadata": {},
   "outputs": [
    {
     "data": {
      "text/plain": [
       "['BCGLDHi_contact_map.hic',\n",
       " 'LDHi_contact_map.hic',\n",
       " '.DS_Store',\n",
       " 'BCG_contact_map.hic',\n",
       " '44113_C_ctrl_43616_mc7contact_map.hic',\n",
       " '44114_C_lps_43617_mc8contact_map.hic',\n",
       " 'DMSO_contact_map.hic',\n",
       " '44112_A_bg_43615_mc6contact_map.hic',\n",
       " '44111_A_ctrl_43614_mc5contact_map.hic']"
      ]
     },
     "execution_count": 1,
     "metadata": {},
     "output_type": "execute_result"
    }
   ],
   "source": [
    "## Don't forget to install hic-straw and any required packages\n",
    "## pip install hic-straw\n",
    "## For more information, check the following link\n",
    "## https://colab.research.google.com/drive/1-GG-n-p9nZ7Be82UVJG7n3Q_wQ9IeuFN?usp=sharing#scrollTo=xf8HUdMVWAgQ\n",
    "## https://pypi.org/project/hic-straw/\n",
    "from subset_hic_v2 import read_hic, get_contact, plot_heatmap, get_matrix\n",
    "import os\n",
    "\n",
    "## List HiC data\n",
    "wd = os.getcwd()\n",
    "data_dir = wd + \"/../data/\"\n",
    "os.listdir(data_dir)"
   ]
  },
  {
   "cell_type": "code",
   "execution_count": 2,
   "id": "0424bfcf",
   "metadata": {},
   "outputs": [],
   "source": [
    "## Subset chr2 data\n",
    "hic_file = data_dir + '44111_A_ctrl_43614_mc5contact_map.hic'\n",
    "hic = read_hic(hic_file)"
   ]
  },
  {
   "cell_type": "code",
   "execution_count": 3,
   "id": "bc3dd922",
   "metadata": {},
   "outputs": [
    {
     "name": "stdout",
     "output_type": "stream",
     "text": [
      "[2500000, 1000000, 500000, 250000, 100000, 50000, 25000, 10000, 5000, 1000]\n"
     ]
    }
   ],
   "source": [
    "## Check what resolutions we have\n",
    "\n",
    "print(hic.getResolutions())"
   ]
  },
  {
   "cell_type": "code",
   "execution_count": 4,
   "id": "6bb9a88e",
   "metadata": {},
   "outputs": [
    {
     "name": "stdout",
     "output_type": "stream",
     "text": [
      "Data saved to CSV file: /Users/tsunghanhsieh/MicroC/Python/../Results/processing/44111_A_ctrl_43614_mc5contact_map_extracted_test.csv\n"
     ]
    }
   ],
   "source": [
    "# Get the count matrix and also save it\n",
    "## Save the interaction counts\n",
    "## output dir\n",
    "output_dir = os.getcwd() + \"/../Results/processing/\"\n",
    "\n",
    "## Extract the last part after the last slash, then remove the extension\n",
    "file_name_with_extension = hic_file.split('/')[-1]\n",
    "outputfile = file_name_with_extension.rsplit('.', 1)[0]\n",
    "outputfile = output_dir + outputfile + \"_extracted_test.csv\"\n",
    "\n",
    "result = get_contact(hic_file, 'chr2:112735986:113204585', 'chr2:112735986:113204585', 10000, outputfile )"
   ]
  },
  {
   "cell_type": "code",
   "execution_count": 5,
   "id": "da3acaa3",
   "metadata": {},
   "outputs": [
    {
     "data": {
      "image/png": "[encoded data removed]",
      "text/plain": [
       "<Figure size 480x480 with 1 Axes>"
      ]
     },
     "metadata": {},
     "output_type": "display_data"
    },
    {
     "name": "stdout",
     "output_type": "stream",
     "text": [
      "Plot saved to PNG file: /Users/tsunghanhsieh/MicroC/Python/../Results/processing/44111_A_ctrl_43614_mc5contact_map_extracted_test.png\n"
     ]
    },
    {
     "data": {
      "text/plain": [
       "<Figure size 640x480 with 0 Axes>"
      ]
     },
     "metadata": {},
     "output_type": "display_data"
    }
   ],
   "source": [
    "# Plot the interaction heat map\n",
    "file_name_with_extension = hic_file.split('/')[-1]\n",
    "outputfile = file_name_with_extension.rsplit('.', 1)[0]\n",
    "outputfile = output_dir + outputfile + \"_extracted_test.png\"\n",
    "plot_heatmap(hic_file, 'chr2', 'chr2', 112735986, 113204585, 112735986, 113204585, 10000, outputfile)"
   ]
  },
  {
   "cell_type": "code",
   "execution_count": 8,
   "id": "3eebbc3e",
   "metadata": {},
   "outputs": [
    {
     "data": {
      "text/plain": [
       "array([[  0.        ,   0.        ,   0.        , ...,   0.        ,\n",
       "          0.        ,   0.        ],\n",
       "       [  0.        ,  63.73130798,  39.44339371, ...,   0.        ,\n",
       "          0.        ,   0.        ],\n",
       "       [  0.        ,  39.44339371,  58.98404694, ...,   0.        ,\n",
       "          1.59183669,   0.        ],\n",
       "       ...,\n",
       "       [  0.        ,   0.        ,   0.        , ...,  88.35954285,\n",
       "         29.92895317,   8.01757336],\n",
       "       [  0.        ,   0.        ,   1.59183669, ...,  29.92895317,\n",
       "         83.12725067,  27.83587265],\n",
       "       [  0.        ,   0.        ,   0.        , ...,   8.01757336,\n",
       "         27.83587265, 102.53188324]])"
      ]
     },
     "execution_count": 8,
     "metadata": {},
     "output_type": "execute_result"
    }
   ],
   "source": [
    "# We can also get contact count in numpy matrix format\n",
    "# But please note the position info is not included\n",
    "\n",
    "df = get_matrix(hic_file, 'chr2', 'chr2', 112735986, 113204585,  112735986, 113204585, 5000)\n",
    "df"
   ]
  }
 ],
 "metadata": {
  "kernelspec": {
   "display_name": "Python 3 (ipykernel)",
   "language": "python",
   "name": "python3"
  },
  "language_info": {
   "codemirror_mode": {
    "name": "ipython",
    "version": 3
   },
   "file_extension": ".py",
   "mimetype": "text/x-python",
   "name": "python",
   "nbconvert_exporter": "python",
   "pygments_lexer": "ipython3",
   "version": "3.11.3"
  }
 },
 "nbformat": 4,
 "nbformat_minor": 5
}
