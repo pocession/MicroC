{
 "cells": [
  {
   "cell_type": "code",
   "execution_count": 1,
   "id": "a67fe036",
   "metadata": {},
   "outputs": [
    {
     "data": {
      "text/plain": [
       "['/Users/tsunghanhsieh/MicroC/Python/../data/BCGLDHi_contact_map.hic',\n",
       " '/Users/tsunghanhsieh/MicroC/Python/../data/LDHi_contact_map.hic',\n",
       " '/Users/tsunghanhsieh/MicroC/Python/../data/BCG_contact_map.hic',\n",
       " '/Users/tsunghanhsieh/MicroC/Python/../data/44113_C_ctrl_43616_mc7contact_map.hic',\n",
       " '/Users/tsunghanhsieh/MicroC/Python/../data/44114_C_lps_43617_mc8contact_map.hic',\n",
       " '/Users/tsunghanhsieh/MicroC/Python/../data/DMSO_contact_map.hic',\n",
       " '/Users/tsunghanhsieh/MicroC/Python/../data/44112_A_bg_43615_mc6contact_map.hic',\n",
       " '/Users/tsunghanhsieh/MicroC/Python/../data/44111_A_ctrl_43614_mc5contact_map.hic']"
      ]
     },
     "execution_count": 1,
     "metadata": {},
     "output_type": "execute_result"
    }
   ],
   "source": [
    "## Don't forget to install hic-straw and any required packages\n",
    "## pip install hic-straw\n",
    "## For more information, check the following link\n",
    "## https://colab.research.google.com/drive/1-GG-n-p9nZ7Be82UVJG7n3Q_wQ9IeuFN?usp=sharing#scrollTo=xf8HUdMVWAgQ\n",
    "## https://pypi.org/project/hic-straw/\n",
    "from subset_hic_v2 import read_hic, get_contact, plot_heatmap, get_matrix\n",
    "import os\n",
    "import glob\n",
    "\n",
    "## List HiC data\n",
    "hic_file_list = []\n",
    "for file in glob.glob(os.getcwd() + \"/../data/*.hic\"):\n",
    "    hic_file_list.append(file)\n",
    "hic_file_list"
   ]
  },
  {
   "cell_type": "code",
   "execution_count": 3,
   "id": "01b22ba4",
   "metadata": {},
   "outputs": [
    {
     "name": "stdout",
     "output_type": "stream",
     "text": [
      "Data saved to CSV file: /Users/tsunghanhsieh/MicroC/Python/../Results/processing/BCGLDHi_contact_map_extracted.csv\n",
      "Data saved to CSV file: /Users/tsunghanhsieh/MicroC/Python/../Results/processing/LDHi_contact_map_extracted.csv\n",
      "Data saved to CSV file: /Users/tsunghanhsieh/MicroC/Python/../Results/processing/BCG_contact_map_extracted.csv\n",
      "Data saved to CSV file: /Users/tsunghanhsieh/MicroC/Python/../Results/processing/44113_C_ctrl_43616_mc7contact_map_extracted.csv\n",
      "Data saved to CSV file: /Users/tsunghanhsieh/MicroC/Python/../Results/processing/44114_C_lps_43617_mc8contact_map_extracted.csv\n",
      "Data saved to CSV file: /Users/tsunghanhsieh/MicroC/Python/../Results/processing/DMSO_contact_map_extracted.csv\n",
      "Data saved to CSV file: /Users/tsunghanhsieh/MicroC/Python/../Results/processing/44112_A_bg_43615_mc6contact_map_extracted.csv\n",
      "Data saved to CSV file: /Users/tsunghanhsieh/MicroC/Python/../Results/processing/44111_A_ctrl_43614_mc5contact_map_extracted.csv\n"
     ]
    }
   ],
   "source": [
    "# Get the count matrix and also save it\n",
    "## Save the interaction counts\n",
    "\n",
    "for hic_file in hic_file_list:\n",
    "    \n",
    "    ## Extract the last part after the last slash, then remove the extension\n",
    "    file_name_with_extension = hic_file.split('/')[-1]\n",
    "    outputfile = file_name_with_extension.rsplit('.', 1)[0]\n",
    "    outputfile = os.getcwd() + \"/../Results/processing/\" + outputfile + \"_extracted.csv\"\n",
    "    \n",
    "    result = get_contact(hic_file, 'chr2:112735986:113204585', 'chr2:112735986:113204585', 10000, outputfile )"
   ]
  },
  {
   "cell_type": "code",
   "execution_count": null,
   "id": "cbba02a7",
   "metadata": {},
   "outputs": [],
   "source": [
    "# Plot the interaction heat map\n",
    "for hic_file in hic_file_list:\n",
    "    \n",
    "    ## Extract the last part after the last slash, then remove the extension\n",
    "    file_name_with_extension = hic_file.split('/')[-1]\n",
    "    outputfile = file_name_with_extension.rsplit('.', 1)[0]\n",
    "    outputfile = os.getcwd() + \"/../Results/figure/\" + outputfile + \"_extracted.png\"\n",
    "    \n",
    "    plot_heatmap(hic_file, 'chr2', 'chr2', 112735986, 113204585, 112735986, 113204585, 10000, outputfile)"
   ]
  },
  {
   "cell_type": "code",
   "execution_count": null,
   "id": "a7cbe147",
   "metadata": {},
   "outputs": [],
   "source": []
  }
 ],
 "metadata": {
  "kernelspec": {
   "display_name": "Python 3 (ipykernel)",
   "language": "python",
   "name": "python3"
  },
  "language_info": {
   "codemirror_mode": {
    "name": "ipython",
    "version": 3
   },
   "file_extension": ".py",
   "mimetype": "text/x-python",
   "name": "python",
   "nbconvert_exporter": "python",
   "pygments_lexer": "ipython3",
   "version": "3.11.3"
  }
 },
 "nbformat": 4,
 "nbformat_minor": 5
}
